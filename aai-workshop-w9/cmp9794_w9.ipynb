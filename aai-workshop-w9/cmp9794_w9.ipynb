{
 "cells": [
  {
   "cell_type": "markdown",
   "metadata": {},
   "source": [
    "# Workshop 9: Smoothing\n",
    "\n",
    "## Overview\n",
    "\n",
    "This workshop relates to Lecture 09. In that lecture, we discussed Dynamic Bayesian Networks\n",
    "(DBNs). Here you will see how DBNs work using a mixture of Excel, and the Python Pomegranate\n",
    "package. In particular, you will carry out a mixture of filtering, prediction and smoothing tasks on\n",
    "the umbrella network that we studied in the lecture."
   ]
  },
  {
   "cell_type": "markdown",
   "metadata": {},
   "source": [
    "## Task 1: Excel for filtering and prediction (redux)\n",
    "\n",
    "The spreadsheet `umbrella-smoothing.xls` that can be found on Blackboard models the umbrella example over the first 3 days.\n",
    "\n",
    "The first tab/sheet `Filtering D3` provides the solution to two of the problems from last week. First, it gives an answer to the problem from Task 4 on predicting rain. The upper cells of the sheet provide a prediction forward until `Day 10` (when the predicted probability of Rain has converged to `0.5`). \n",
    "\n",
    "**BTW, why do we know that this means it had converged?**\n",
    "\n",
    "Second, the tab/sheet also provides the computation of the filtered probability of rain for `Day 3`. This is the answer to the problem from Task 5. (Note that the tab/sheet `Filtering D2` provides predictions from `Day 3` onwards — it filters to `Day 2` and then predicts — so provides another prediction forward to `Day 10`.)\n"
   ]
  },
  {
   "cell_type": "markdown",
   "metadata": {},
   "source": [
    "## Task 2: Excel for smoothing (Day 1)\n",
    "\n",
    "The tab/sheet `Smoothing D1` gives the smoothing calculation for `Day 1`.\n",
    "\n",
    "The forward message is computed just as for filtering (it is the same message after all). The backward message (at the bottom of the sheet) is computed exactly as on Slide 26 and Slide 28 (the layout is similar to that on Slide 28 which hopefully makes it easy to see the correspondence).\n",
    "\n",
    "The smoothed probability is then just the product of the forward and backward messages, normalised. This is the calculation on Slide 27 (and 28).\n",
    "\n",
    "Look at what happens when the probabilities of umbrella/not umbrella on `Days 1` and `Day 2` vary."
   ]
  },
  {
   "cell_type": "markdown",
   "metadata": {},
   "source": [
    "## Task 3: Excel for Smoothing (Day 2)\n",
    "\n",
    "The tab/sheet `Smoothing D2` gives the smoothing calculation for `Day 2`.\n",
    "\n",
    "Compared to the calculation for `Day 1`, this involves predicting forward another day, entering evidence, and computing the backward message.\n",
    "\n",
    "Again, look at what happens when the probabilities of umbrella/not umbrella on `Days 1` and `Day 2` vary."
   ]
  },
  {
   "cell_type": "markdown",
   "metadata": {},
   "source": [
    "## Task 4: Smoothing with Python\n",
    "\n",
    "As in Workshop 8 we will use a Python package called pomegranate, which provides support for\n",
    "probabilistic reasoning."
   ]
  },
  {
   "cell_type": "code",
   "execution_count": null,
   "metadata": {},
   "outputs": [],
   "source": [
    "!pip install pomegranate==0.15.0\n",
    "\n",
    "from pomegranate import *"
   ]
  },
  {
   "cell_type": "markdown",
   "metadata": {},
   "source": [
    "### Model Setup\n",
    "\n",
    "Then you can run the version of the umbrella model in the following cells. `pomegranate` can only solve Bayesian newtorks (not Dynamic Bayesian Networks), so we have to unroll the whole example to the depth that we want. The following code has the network unrolled to a depth of 2 days. Read through the code, where we defined the probability distributions, nodes, and network edges."
   ]
  },
  {
   "cell_type": "code",
   "execution_count": null,
   "metadata": {},
   "outputs": [],
   "source": [
    "# Define the distributions\n",
    "Rain0 = DiscreteDistribution({'y': 0.5, 'n': 0.5})\n",
    "\n",
    "# Conditional distributions for rain on subsequent days\n",
    "Rain1 = ConditionalProbabilityTable([\n",
    "    ['y', 'y', 0.7],\n",
    "    ['y', 'n', 0.3],\n",
    "    ['n', 'y', 0.3],\n",
    "    ['n', 'n', 0.7]\n",
    "], [Rain0])\n",
    "\n",
    "Rain2 = ConditionalProbabilityTable([\n",
    "    ['y', 'y', 0.7],\n",
    "    ['y', 'n', 0.3],\n",
    "    ['n', 'y', 0.3],\n",
    "    ['n', 'n', 0.7]\n",
    "], [Rain1])\n",
    "\n",
    "# Sensor model for umbrella\n",
    "Umbrella1 = ConditionalProbabilityTable([\n",
    "    ['y', 'y', 0.9],\n",
    "    ['y', 'n', 0.1],\n",
    "    ['n', 'y', 0.2],\n",
    "    ['n', 'n', 0.8]\n",
    "], [Rain1])\n",
    "\n",
    "Umbrella2 = ConditionalProbabilityTable([\n",
    "    ['y', 'y', 0.9],\n",
    "    ['y', 'n', 0.1],\n",
    "    ['n', 'y', 0.2],\n",
    "    ['n', 'n', 0.8]\n",
    "], [Rain2])\n",
    "\n",
    "# Nodes in the network\n",
    "s1 = Node(Rain0, name='Rain0')\n",
    "s2 = Node(Rain1, name='Rain1')\n",
    "s3 = Node(Umbrella1, name='Umbrella1')\n",
    "s4 = Node(Rain2, name='Rain2')\n",
    "s5 = Node(Umbrella2, name='Umbrella2')\n",
    "\n",
    "# Define the network\n",
    "model = BayesianNetwork('Umbrella Network')\n",
    "model.add_states(s1, s2, s3, s4, s5)\n",
    "\n",
    "# Add edges between nodes\n",
    "model.add_edge(s1, s2)\n",
    "model.add_edge(s2, s3)\n",
    "model.add_edge(s2, s4)\n",
    "model.add_edge(s4, s5)\n",
    "\n",
    "# Finalize the network\n",
    "model.bake()\n",
    "print('Model setup complete')"
   ]
  },
  {
   "cell_type": "markdown",
   "metadata": {},
   "source": [
    "To do smoothing, we need to add the following code, to inform the model about rain on `Day 3`."
   ]
  },
  {
   "cell_type": "code",
   "execution_count": null,
   "metadata": {},
   "outputs": [],
   "source": [
    "Rain3 = ConditionalProbabilityTable([\n",
    "    ['y', 'y', 0.7],\n",
    "    ['y', 'n', 0.3],\n",
    "    ['n', 'y', 0.3],\n",
    "    ['n', 'n', 0.7]\n",
    "], [Rain2])\n",
    "\n",
    "# Node \n",
    "s6 = Node(Rain3, name='Rain3')\n",
    "# State\n",
    "model.add_states(s6)\n",
    "# Edge\n",
    "model.add_edge(s4, s6) # The edge connect Rain2 and Rain3\n",
    "\n",
    "model.bake()"
   ]
  },
  {
   "cell_type": "markdown",
   "metadata": {},
   "source": [
    "Note that we only call `model.bake()` once the last elements are entered.\n",
    "\n",
    "Now that we have the model entered, we can ask it questions. But first let's tell the model that we saw umbrellas on `Day 1`and `Day 2`."
   ]
  },
  {
   "cell_type": "code",
   "execution_count": null,
   "metadata": {},
   "outputs": [],
   "source": [
    "# Umbrellas on Day 1 and 2:\n",
    "scenario = [[None, None, 'y', None,'y', None]]\n",
    "# Run the model\n",
    "predict_proba = model.predict_proba(scenario)\n",
    "# Ask for the probability of rain on Day 1:\n",
    "print(predict_proba[0][1].items())\n",
    "# Ask for the probability of rain on Day 2:\n",
    "print(predict_proba[0][3].items())"
   ]
  },
  {
   "cell_type": "markdown",
   "metadata": {},
   "source": [
    "This should give exactly the results from the lecture (Slide 28), and from the Excel model.\n",
    "Note that we didn’t tell `pomegranate` to do smoothing. As we saw last time with `Day 0`, it (in effect) always runs the backwards propagation and gives us smoothed probabilities for all days before the latest piece of evidence.\n",
    "\n",
    "I said “in effect” because `pomegranate` doesn’t do the computation the way we studied. It just computes the probability of every hidden variable given the evidence. To see this, try looking up the probability of rain on `Day 3`."
   ]
  },
  {
   "cell_type": "markdown",
   "metadata": {},
   "source": [
    "## Task 5: More smoothing using Excel \n",
    "\n",
    "Now go back to the Excel spreadsheet and calculate the smoothed probability for `Day 3`."
   ]
  },
  {
   "cell_type": "markdown",
   "metadata": {},
   "source": [
    "## Task 6: Day 3 using pomegranate\n",
    "\n",
    "Extend the `pomegranate` model to compute the smoothed probability of rain `Day 3`, given both umbrella being true and false on `Day 4` (that is two separate calculations).\n",
    "\n",
    "Check your result against the values from the Excel model."
   ]
  },
  {
   "cell_type": "code",
   "execution_count": null,
   "metadata": {},
   "outputs": [],
   "source": [
    "# Extend to day 3\n",
    "Umbrella3 = ConditionalProbabilityTable(# TODO: fill in the table)\n",
    "Rain4 = ConditionalProbabilityTable(# TODO: fill in the table)\n",
    "Umbrella3 = ConditionalProbabilityTable(# TODO: fill in the table)\n",
    "\n",
    "# TODO: Define and Add nodes\n",
    "s7 = # TODO: Add node for Umbrella3\n",
    "s8 = # TODO: Add node for Rain4\n",
    "s9 = # TODO: Add node for Umbrella4\n",
    "model.add_states(s7, s8, s9)\n",
    "\n",
    "# Re-bake the model\n",
    "model.bake()\n",
    "\n",
    "# Run prediction with new model\n",
    "scenario = # TODO: Create a new model scenario\n",
    "predict_proba = model.predict_proba(scenario)\n",
    "# Ask for the probability of rain on Day 3:\n",
    "print(predict_proba[0][5].items())"
   ]
  }
 ],
 "metadata": {
  "kernelspec": {
   "display_name": "base",
   "language": "python",
   "name": "python3"
  },
  "language_info": {
   "codemirror_mode": {
    "name": "ipython",
    "version": 3
   },
   "file_extension": ".py",
   "mimetype": "text/x-python",
   "name": "python",
   "nbconvert_exporter": "python",
   "pygments_lexer": "ipython3",
   "version": "3.7.6"
  }
 },
 "nbformat": 4,
 "nbformat_minor": 2
}
