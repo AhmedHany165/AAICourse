{
 "cells": [
  {
   "cell_type": "markdown",
   "metadata": {},
   "source": [
    "# Workshop 10: Decision Making\n",
    "\n",
    "## Overview\n",
    "\n",
    "This workshop relates to `Lecture 10`. In that lecture, we discussed decision making. Here you will program some simple decision-making."
   ]
  },
  {
   "cell_type": "markdown",
   "metadata": {},
   "source": [
    "## Task 1: Time for coffee?\n",
    "\n",
    "### Task 1.1: The question\n",
    "\n",
    "I have half an hour to spare in my busy schedule, and I have a choice between working quietly in my office and going out for a coffee.\n",
    "\n",
    "* If I stay in my office, three things can happen: I can get some work done `(Utility = 8)`, or I can get distracted looking at the latest news on US politics `(U tility = 1)`, or a colleague might stop by to talk about some work we are doing on revising the curriculum `(Utility = 5)`.\n",
    "\n",
    "* If I go out for coffee, I will most likely enjoy a good cup of smooth caffeine `(Utility = 10)`, but there is also a chance I will end up spilling coffee all over myself `(Utility = −20)`.\n",
    "\n",
    "* The probability of getting work done if I choose to stay in the office is `0.5`, while the probabilities of getting distracted, and a colleague stopping by are `0.3` and `0.2` respectively.\n",
    "\n",
    "* If I go out for a coffee, my chance of enjoying my beverage is `0.95`, and the chance of spilling my drink is `0.05`.\n",
    "  \n",
    "**TODO: What is the expected utility of staying in my office?**\n"
   ]
  },
  {
   "cell_type": "markdown",
   "metadata": {},
   "source": [
    "### Task 1.2: The solution\n",
    "\n",
    "The following Python code provide the solution to the problem above. The following code simply relies on `numpy` for running some mathematical operations."
   ]
  },
  {
   "cell_type": "code",
   "execution_count": null,
   "metadata": {},
   "outputs": [],
   "source": [
    "!pip install numpy\n",
    "\n",
    "import numpy as np"
   ]
  },
  {
   "cell_type": "markdown",
   "metadata": {},
   "source": [
    "#### Model Setup\n",
    "\n",
    "TThe code first sets up some Python arrays with the relevant information from the problem statements and prints them:"
   ]
  },
  {
   "cell_type": "code",
   "execution_count": null,
   "metadata": {},
   "outputs": [],
   "source": [
    "# Setup arrays with: symbolic names for outcomes (not currently used),\n",
    "# utilities of outcomes, and probabililites of those outcomes\n",
    "office_outcomes = [\"work\", \"distracted\", \"colleague\"] \n",
    "print('office_outcomes = ', office_outcomes)\n",
    "u_office_outcomes = np.array([8, 1, 5]) \n",
    "print('U(office_outcomes) = ', u_office_outcomes) \n",
    "p_office_outcomes_office = np.array([0.5, 0.3, 0.2]) \n",
    "print('P(office_outcomes|office) =', p_office_outcomes_office)\n"
   ]
  },
  {
   "cell_type": "markdown",
   "metadata": {},
   "source": [
    "Then the expected utility of staying in the office is easy to compute:"
   ]
  },
  {
   "cell_type": "code",
   "execution_count": null,
   "metadata": {},
   "outputs": [],
   "source": [
    "# The weighted utility of each outcome is each to compute by pairwise\n",
    "# multiplication\n",
    "eu_office_outcomes = u_office_outcomes * p_office_outcomes_office\n",
    "print('EU by outcome =', np.sum(eu_office_outcomes))"
   ]
  },
  {
   "cell_type": "markdown",
   "metadata": {},
   "source": [
    "This gives an expected utility of staying in the office of `5.3`, as you can check by running the cells above."
   ]
  },
  {
   "cell_type": "markdown",
   "metadata": {},
   "source": [
    "## Task 2: Now write your own\n",
    "\n",
    "What is the expected utliyu of going out for coffee?\n",
    "\n",
    "**TODO: Try first to compute it by hand and then validate it with Python.**"
   ]
  },
  {
   "cell_type": "code",
   "execution_count": null,
   "metadata": {},
   "outputs": [],
   "source": [
    "# TODO: compute the utility of going out for coffee\n",
    "eu_coffee_outcome = None\n",
    "print('EU by outcome =', np.sum(eu_coffe_outcome))"
   ]
  },
  {
   "cell_type": "markdown",
   "metadata": {},
   "source": [
    "## Task 3: Making the decision\n",
    "\n",
    "Using the `Maximum Expected Utility` criterion, which is the right decision - go for coffee or stay in the office?\n",
    "\n",
    "## Task 4: Alternative decision criteria\n",
    "\n",
    "What is the right decision if you use the `Maxmin` criteion to make the decision?\n",
    "What about if you use `Maximax`?"
   ]
  }
 ],
 "metadata": {
  "kernelspec": {
   "display_name": "Python 3",
   "language": "python",
   "name": "python3"
  },
  "language_info": {
   "codemirror_mode": {
    "name": "ipython",
    "version": 3
   },
   "file_extension": ".py",
   "mimetype": "text/x-python",
   "name": "python",
   "nbconvert_exporter": "python",
   "pygments_lexer": "ipython3",
   "version": "3.10.12"
  }
 },
 "nbformat": 4,
 "nbformat_minor": 2
}
