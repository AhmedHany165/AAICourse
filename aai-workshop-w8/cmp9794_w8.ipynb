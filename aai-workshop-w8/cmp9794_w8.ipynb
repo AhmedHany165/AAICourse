{
 "cells": [
  {
   "cell_type": "markdown",
   "metadata": {},
   "source": [
    "# Workshop 8: Filtering\n",
    "\n",
    "## Overview\n",
    "\n",
    "This workshop relates to Lecture 8. In that lecture, we discussed Dynamic Bayesian Networks\n",
    "(DBNs). Here you will see how DBNs work using a mixture of Excel, and the Python Pomegranate\n",
    "package. In particular, you will carry out a mixture of filtering and prediction tasks on the umbrella\n",
    "network that we studied in the lecture."
   ]
  },
  {
   "cell_type": "markdown",
   "metadata": {},
   "source": [
    "## Task 1: Excel for filtering\n",
    "\n",
    "The spreadsheet `umbrella-filtering.xls` that can be found on Blackboard models the umbrella example over over the first 2 days.\n",
    "On the top line, the probability of rain for `Day 0` is the prior probability (see Slides 26 and 49 in lecture 8).\n",
    "At the bottom of the sheet are the conditional probability tables for the transition model and the sensor model. The predicted probability for rain on `Day 1` (top) is computed from the probability for `Day 0` and the transition model. This is exactly as on Slide 49 (and 53).\n",
    "\n",
    "To get the filtered probability, we have to bring in information about whether we saw an umbrella or not. The filtered probability of rain for `Day 1` (middle of the sheet) is computed by combining the predicted probability for `Day 1`, the sensor model, and what we know about umbrellas. This gives the results you see on Slide 50 (and 53).\n",
    "\n",
    "Note: There are two versions of the filtered probability. The raw values which we get directly from the calculation, and the normalized values (raw values scaled so they add to 1).\n",
    "\n",
    "**Look at what happens if you change the probability of umbrella/not umbrella. Currently the values say you see an umbrella (probability of umbrella is 1 and that of not umbrella is 0). What happens if you don’t see an umbrella (probability of umbrella is 0 and that of not umbrella is 1)? What about if you have no information (probability of umbrella is 0.5 and that of not umbrella is 0.5)?**"
   ]
  },
  {
   "cell_type": "markdown",
   "metadata": {},
   "source": [
    "## Task 2: More filtering with Excel\n",
    "\n",
    "The column for `Day 2` just repeats the calculations for `Day 1`, but starting from the results from `Day 1`.\n",
    "Thus the predicted probability for `Day 2` is calculated by applying the transition model to the (normalized) filtered probability for `Day 1`. The results are just like those on Slide 51 (and 53).\n",
    "\n",
    "The filtered probability of `Day 2` is calculated from the predicted probability for `Day 2`, the sensor model, and what we know about umbrellas. The results are just like those on Slide 52 (and 53).\n",
    "\n",
    "In other words, the probabilities for `Day 2` are computed just like those for `Day 1`. The calculation is modular.\n",
    "\n",
    "**Look at what happens when the probabilities of umbrella/not umbrella on `Days 1` and `2` vary.**"
   ]
  },
  {
   "cell_type": "markdown",
   "metadata": {},
   "source": [
    "## Task 3: Predicting with Python\n",
    "\n",
    "For this example we will use a Python package called `pomegranate`, which provides support for probabilistic reasoning."
   ]
  },
  {
   "cell_type": "markdown",
   "metadata": {},
   "source": [
    "### Setup and Installation"
   ]
  },
  {
   "cell_type": "code",
   "execution_count": null,
   "metadata": {},
   "outputs": [],
   "source": [
    "%pip install pomegranate==0.15.0"
   ]
  },
  {
   "cell_type": "markdown",
   "metadata": {},
   "source": [
    "### Imports\n",
    "\n",
    "Let's import the `pomegranate` library for building our model."
   ]
  },
  {
   "cell_type": "code",
   "execution_count": null,
   "metadata": {},
   "outputs": [],
   "source": [
    "from pomegranate import *\n"
   ]
  },
  {
   "cell_type": "markdown",
   "metadata": {},
   "source": [
    "### Model Setup\n",
    "\n",
    "Then you can run the version of the umbrella model in the following cells. `pomegranate` can only solve Bayesian newtorks (not Dynamic Bayesian Networks), so we have to unroll the whole example to the depth that we want. The following code has the network unrolled to a depth of 2 days. Read through the code, where we defined the probability distributions, nodes, and network edges."
   ]
  },
  {
   "cell_type": "code",
   "execution_count": null,
   "metadata": {},
   "outputs": [],
   "source": [
    "# Define the distributions\n",
    "Rain0 = DiscreteDistribution({'y': 0.5, 'n': 0.5})\n",
    "\n",
    "# Conditional distributions for rain on subsequent days\n",
    "Rain1 = ConditionalProbabilityTable([\n",
    "    ['y', 'y', 0.7],\n",
    "    ['y', 'n', 0.3],\n",
    "    ['n', 'y', 0.3],\n",
    "    ['n', 'n', 0.7]\n",
    "], [Rain0])\n",
    "\n",
    "Rain2 = ConditionalProbabilityTable([\n",
    "    ['y', 'y', 0.7],\n",
    "    ['y', 'n', 0.3],\n",
    "    ['n', 'y', 0.3],\n",
    "    ['n', 'n', 0.7]\n",
    "], [Rain1])\n",
    "\n",
    "# Sensor model for umbrella\n",
    "Umbrella1 = ConditionalProbabilityTable([\n",
    "    ['y', 'y', 0.9],\n",
    "    ['y', 'n', 0.1],\n",
    "    ['n', 'y', 0.2],\n",
    "    ['n', 'n', 0.8]\n",
    "], [Rain1])\n",
    "\n",
    "Umbrella2 = ConditionalProbabilityTable([\n",
    "    ['y', 'y', 0.9],\n",
    "    ['y', 'n', 0.1],\n",
    "    ['n', 'y', 0.2],\n",
    "    ['n', 'n', 0.8]\n",
    "], [Rain2])\n",
    "\n",
    "# Nodes in the network\n",
    "s1 = Node(Rain0, name='Rain0')\n",
    "s2 = Node(Rain1, name='Rain1')\n",
    "s3 = Node(Umbrella1, name='Umbrella1')\n",
    "s4 = Node(Rain2, name='Rain2')\n",
    "s5 = Node(Umbrella2, name='Umbrella2')\n",
    "\n",
    "# Define the network\n",
    "model = BayesianNetwork('Umbrella Network')\n",
    "model.add_states(s1, s2, s3, s4, s5)\n",
    "\n",
    "# Add edges between nodes\n",
    "model.add_edge(s1, s2)\n",
    "model.add_edge(s2, s3)\n",
    "model.add_edge(s2, s4)\n",
    "model.add_edge(s4, s5)\n",
    "\n",
    "# Finalize the network\n",
    "model.bake()\n",
    "print('Model setup complete')"
   ]
  },
  {
   "cell_type": "markdown",
   "metadata": {},
   "source": [
    "`pomegranate` makes it possible to specify the following elements:\n",
    "* Variables\n",
    "  \n",
    "  `Rain0`, `Rain1`, `Rain2`, `Umbrella1` and `Umbrella2` are the variables here.\n",
    "\n",
    "* Probability distributions.\n",
    "  \n",
    "  Variables can have probability distributions associated with them. The distribution associated with `Rain0` is an example of a prior distribution, whereas those connecting `Rain0` and `Rain1`, and then `Rain1`, `Rain2` are conditional. Similarly, there are conditional distributions connecting `Umbrella1` and `Rain1`, and `Umbrella2`, `Rain2`.\n",
    "\n",
    "* Nodes in a network\n",
    "\n",
    "  `s1` to `s5` are nodes, associated with the variables `Rain0`, `Rain1`, `Umbrella1`, `Rain2` and `Umbrella2` respectively.\n",
    "\n",
    "* Models\n",
    "\n",
    "  `model` is defined as a Bayesian Network that includes all the nodes, and then edges that connect them.\n"
   ]
  },
  {
   "cell_type": "markdown",
   "metadata": {},
   "source": [
    "### Task 3.1: Predict without Evidence\n",
    "\n",
    "In addition to the above, we can also define the evidence. In particular, `scenario` specifies values for the variables in the model. \n",
    "\n",
    "`scenario = [[None, None, None, None, None]]`\n",
    "\n",
    "leaves all variables unspecified, while:\n",
    "\n",
    "`scenario = [[None, None, ’y’, None, None]]`\n",
    "\n",
    "specifies that an umbrella was seen on day 1 (i.e. the variable `Umbrella1` associated with node `s3` has value `y`.\n",
    "\n",
    "We can define a function for printing the evidence in the scenario."
   ]
  },
  {
   "cell_type": "code",
   "execution_count": null,
   "metadata": {},
   "outputs": [],
   "source": [
    "def print_evidence(scenario):\n",
    "    # A message about the evidence presented.\n",
    "    #\n",
    "    # This is hard-coded to reflect the variables used in the model (see\n",
    "    # below).\n",
    "    msg = \"\"\n",
    "    if scenario[0][0] == 'y':\n",
    "        msg += \"Rain in Day 0. \"\n",
    "    if scenario[0][0] == 'n':\n",
    "        msg += \"No rain on Day 0. \"\n",
    "    if scenario[0][1] == 'y':\n",
    "        msg += \"Rain on Day 1. \"\n",
    "    if scenario[0][1] == 'n':\n",
    "        msg += \"No rain on Day 1. \"\n",
    "    if scenario[0][2] == 'y':\n",
    "        msg += \"Umbrella on Day 1. \"\n",
    "    if scenario[0][2] == 'n':\n",
    "        msg += \"No umbrella on Day 1. \"\n",
    "    if scenario[0][3] == 'y':\n",
    "        msg += \"Rain on Day 2. \"\n",
    "    if scenario[0][3] == 'n':\n",
    "        msg += \"No rain on Day 2. \"\n",
    "    if scenario[0][4] == 'y':\n",
    "        msg += \"Umbrella on Day 2. \"\n",
    "    if scenario[0][4] == 'n':\n",
    "        msg += \"No umbrella on Day 2. \"\n",
    "    \n",
    "    print(\"Evidence is: \", msg)\n",
    "    print(\"\\n\")\n"
   ]
  },
  {
   "cell_type": "markdown",
   "metadata": {},
   "source": [
    "Run the following code to compure the values of rain on `Days 1`and `2`when no evidence of umbrellas. This is predicting rain on those days with no evidence. What results do you get?"
   ]
  },
  {
   "cell_type": "code",
   "execution_count": null,
   "metadata": {},
   "outputs": [],
   "source": [
    "scenario = [[None, None, None, None, None]]\n",
    "print_evidence(scenario)\n",
    "predict_proba = model.predict_proba(scenario)\n",
    "for i, dist in enumerate(predict_proba[0]):\n",
    "    if isinstance(dist, DiscreteDistribution):\n",
    "        print(f\"Day {i}:\", dist.items())"
   ]
  },
  {
   "cell_type": "markdown",
   "metadata": {},
   "source": [
    "### Task 3.2: Adding Evidence\n",
    "Here, modify the following code to add evidence of an umbrella on `Day 1` and observe the change in probability. How does the probability of rain on `Day 1` change? This is now the filtered probability of rain on `Day 1`."
   ]
  },
  {
   "cell_type": "code",
   "execution_count": null,
   "metadata": {},
   "outputs": [],
   "source": [
    "scenario = [[None, None, None, None, None]]\n",
    "print_evidence(scenario)\n",
    "predict_proba = model.predict_proba(scenario)\n",
    "for i, dist in enumerate(predict_proba[0]):\n",
    "    if isinstance(dist, DiscreteDistribution):\n",
    "        print(f\"Day {i}:\", dist.items())"
   ]
  },
  {
   "cell_type": "markdown",
   "metadata": {},
   "source": [
    "Note that, in both these cases, `pomegranate` is giving us values for the probabilities of all the variables in the model. When we give it evidence about `umbrella1`, it not only gives us the filtered probability of rain on `Day 1`, but it also predicts the probability of rain on `Day 2`, and provides a smoothed estimate of the probability of rain on `Day 0`."
   ]
  },
  {
   "cell_type": "markdown",
   "metadata": {},
   "source": [
    "### Task 3.3: Day 2 with pomegranate\n",
    "\n",
    "Use pomegranate to calculate the filtered probability of rain on `Day 2` when we see an umbrella on `Day 1` and `Day 2`. What is the filtered probability of rain on `Day 2` when we don’t see an umbrella on `Day 1` (that is, the evidence is “no umbrella” on `Day 1`)? How about if we just have no information about Umbrellas on `Day 1`? You can play with the code block above.\n",
    "How do these results compare with what you get using Excel?"
   ]
  },
  {
   "cell_type": "code",
   "execution_count": null,
   "metadata": {},
   "outputs": [],
   "source": [
    "scenario = [[None, None, None, None, None]]\n",
    "print_evidence(scenario)\n",
    "predict_proba = model.predict_proba(scenario)\n",
    "for i, dist in enumerate(predict_proba[0]):\n",
    "    if isinstance(dist, DiscreteDistribution):\n",
    "        print(f\"Day {i}:\", dist.items())"
   ]
  },
  {
   "cell_type": "markdown",
   "metadata": {},
   "source": [
    "## Task 4: Filtering Day 3 using Excel\n",
    "\n",
    "Take your spreadsheet from the previous example, and add the filtered probability calculation for `Day 3`."
   ]
  },
  {
   "cell_type": "markdown",
   "metadata": {},
   "source": [
    "## Task 5: Day 3 with pomegranate\n",
    "This task involves extending the network to include `Day 3` and analyzing probabilities.\n",
    "Use your model to predict the probability of rain on `Day 3` when the only evidence that you have is that you see an Umbrella on `Day 1`. \n",
    "How does this value change when you also see an umbrella on `Day 3`?"
   ]
  },
  {
   "cell_type": "code",
   "execution_count": null,
   "metadata": {},
   "outputs": [],
   "source": [
    "# Extend to day 3\n",
    "Rain3 = ConditionalProbabilityTable(# TODO: fill in the table)\n",
    "Umbrella3 = ConditionalProbabilityTable(# TODO: fill in the table)\n",
    "\n",
    "# TODO: Define and Add nodes\n",
    "s6 = # TODO: Add node for Rain3\n",
    "s7 = # TODO: Add node for Umbrella3\n",
    "model.add_states(s6, s7)\n",
    "\n",
    "# TODO: Add edges\n",
    "\n",
    "\n",
    "# Re-bake the model\n",
    "model.bake()\n",
    "\n",
    "# Run prediction with new model\n",
    "scenario = # TODO: Create a new model scenario\n",
    "print_evidence(scenario)\n",
    "predict_proba = model.predict_proba(scenario)\n",
    "for i, dist in enumerate(predict_proba[0]):\n",
    "    if isinstance(dist, DiscreteDistribution):\n",
    "        print(f\"Day {i}:\", dist.items())"
   ]
  }
 ],
 "metadata": {
  "kernelspec": {
   "display_name": "base",
   "language": "python",
   "name": "python3"
  },
  "language_info": {
   "codemirror_mode": {
    "name": "ipython",
    "version": 3
   },
   "file_extension": ".py",
   "mimetype": "text/x-python",
   "name": "python",
   "nbconvert_exporter": "python",
   "pygments_lexer": "ipython3",
   "version": "3.7.6"
  }
 },
 "nbformat": 4,
 "nbformat_minor": 2
}
